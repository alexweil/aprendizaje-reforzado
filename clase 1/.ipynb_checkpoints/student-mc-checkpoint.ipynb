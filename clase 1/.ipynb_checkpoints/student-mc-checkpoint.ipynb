{
 "cells": [
  {
   "cell_type": "markdown",
   "metadata": {},
   "source": [
    "El siguiente código simula esta cadena de markov: \n",
    "<img src=\"student-mc.PNG\">"
   ]
  },
  {
   "cell_type": "code",
   "execution_count": 1,
   "metadata": {},
   "outputs": [],
   "source": [
    "import numpy as np\n",
    "import random as r"
   ]
  },
  {
   "cell_type": "code",
   "execution_count": 2,
   "metadata": {},
   "outputs": [],
   "source": [
    "states = [\"C1\", \"C2\", \"C3\", \"fb\", \"pub\", \"pass\", \"sleep\"]\n",
    "\n",
    "state_to_index = {\"C1\":0, \"C2\":1, \"C3\":2, \"fb\":3, \"pub\":4, \"pass\":5, \"sleep\":6}\n",
    "\n",
    "p_s1_s2 = np.array(\n",
    "    # C1   C2   C3   fb   pub  pass sleep '''\n",
    "    [[0.0, 0.5, 0.0, 0.5, 0.0, 0.0, 0.0], #C1\n",
    "     [0.0, 0.0, 0.8, 0.0, 0.0, 0.0, 0.2], #C2\n",
    "     [0.0, 0.0, 0.0, 0.0, 0.4, 0.6, 0.0], #C3\n",
    "     [0.1, 0.0, 0.0, 0.9, 0.0, 0.0, 0.0], #fb\n",
    "     [0.2, 0.4, 0.4, 0.0, 0.0, 0.0, 0.0], #pub\n",
    "     [0.0, 0.0, 0.0, 0.0, 0.0, 0.0, 1.0], #pass\n",
    "     [0.0, 0.0, 0.0, 0.0, 0.0, 0.0, 1.0],]#sleep\n",
    ")"
   ]
  },
  {
   "cell_type": "code",
   "execution_count": 7,
   "metadata": {},
   "outputs": [],
   "source": [
    "def run_student():\n",
    "    state = \"C1\"\n",
    "    episode = []\n",
    "    while state != \"sleep\":\n",
    "        episode.append(state)\n",
    "        ind = states.index(state)\n",
    "        chosen = np.random.choice(len(states), 1, False, p_s1_s2[ind,:])\n",
    "        state = states[chosen[0]]\n",
    "    return episode\n",
    "        \n",
    "episode = run_student()"
   ]
  },
  {
   "cell_type": "code",
   "execution_count": 8,
   "metadata": {},
   "outputs": [
    {
     "data": {
      "text/plain": [
       "['C1', 'C2', 'C3', 'pass']"
      ]
     },
     "execution_count": 8,
     "metadata": {},
     "output_type": "execute_result"
    }
   ],
   "source": [
    "episode"
   ]
  },
  {
   "cell_type": "markdown",
   "metadata": {},
   "source": [
    "# Usando el código hacer los siguientes ejercicios:\n",
    "1. simular 100 episodios del estudiante\n",
    "2. calcular un estimado del tiempo de visita de cada estado\n",
    "3. calcular un estimado de la longitud media de la cadena"
   ]
  },
  {
   "cell_type": "code",
   "execution_count": 12,
   "metadata": {},
   "outputs": [
    {
     "name": "stdout",
     "output_type": "stream",
     "text": [
      "['C1', 'C2', 'C3', 'pass']\n",
      "['C1', 'fb', 'fb', 'fb', 'fb', 'fb', 'fb', 'fb', 'fb', 'fb', 'fb', 'fb', 'fb', 'fb', 'fb', 'fb', 'fb', 'fb', 'fb', 'fb', 'fb', 'fb', 'C1', 'fb', 'fb', 'C1', 'fb', 'fb', 'fb', 'fb', 'fb', 'fb', 'fb', 'fb', 'fb', 'C1', 'C2', 'C3', 'pub', 'C2', 'C3', 'pub', 'C3', 'pass']\n",
      "['C1', 'fb', 'fb', 'fb', 'C1', 'C2', 'C3', 'pass']\n",
      "['C1', 'C2']\n",
      "['C1', 'fb', 'fb', 'fb', 'fb', 'fb', 'fb', 'fb', 'fb', 'fb', 'fb', 'fb', 'C1', 'C2']\n",
      "['C1', 'C2', 'C3', 'pub', 'C2', 'C3', 'pass']\n",
      "['C1', 'C2', 'C3', 'pass']\n",
      "['C1', 'C2', 'C3', 'pass']\n",
      "['C1', 'C2', 'C3', 'pass']\n",
      "['C1', 'C2', 'C3', 'pub', 'C2', 'C3', 'pass']\n",
      "['C1', 'fb', 'fb', 'fb', 'fb', 'C1', 'C2', 'C3', 'pub', 'C2']\n",
      "['C1', 'fb', 'fb', 'fb', 'fb', 'fb', 'fb', 'fb', 'fb', 'C1', 'fb', 'fb', 'fb', 'fb', 'fb', 'fb', 'fb', 'fb', 'fb', 'C1', 'C2', 'C3', 'pass']\n",
      "['C1', 'fb', 'fb', 'fb', 'fb', 'fb', 'C1', 'C2']\n",
      "['C1', 'fb', 'fb', 'fb', 'fb', 'fb', 'fb', 'fb', 'fb', 'fb', 'fb', 'fb', 'fb', 'fb', 'fb', 'fb', 'fb', 'C1', 'C2', 'C3', 'pass']\n",
      "['C1', 'fb', 'fb', 'fb', 'fb', 'fb', 'fb', 'fb', 'C1', 'C2', 'C3', 'pass']\n",
      "['C1', 'C2', 'C3', 'pub', 'C2', 'C3', 'pass']\n",
      "['C1', 'C2', 'C3', 'pub', 'C1', 'fb', 'fb', 'fb', 'fb', 'fb', 'fb', 'fb', 'C1', 'fb', 'fb', 'fb', 'fb', 'fb', 'fb', 'fb', 'fb', 'fb', 'fb', 'fb', 'C1', 'fb', 'fb', 'fb', 'fb', 'fb', 'fb', 'fb', 'fb', 'fb', 'C1', 'fb', 'fb', 'fb', 'fb', 'fb', 'fb', 'fb', 'fb', 'fb', 'fb', 'fb', 'fb', 'C1', 'C2', 'C3', 'pub', 'C3', 'pass']\n",
      "['C1', 'C2', 'C3', 'pass']\n",
      "['C1', 'C2', 'C3', 'pub', 'C1', 'C2']\n",
      "['C1', 'fb', 'fb', 'fb', 'fb', 'fb', 'fb', 'fb', 'fb', 'fb', 'C1', 'C2', 'C3', 'pass']\n",
      "['C1', 'fb', 'fb', 'fb', 'fb', 'fb', 'fb', 'fb', 'fb', 'fb', 'fb', 'fb', 'fb', 'fb', 'fb', 'C1', 'fb', 'fb', 'C1', 'C2', 'C3', 'pass']\n",
      "['C1', 'fb', 'fb', 'fb', 'fb', 'C1', 'C2', 'C3', 'pass']\n",
      "['C1', 'fb', 'fb', 'fb', 'fb', 'fb', 'fb', 'fb', 'fb', 'fb', 'fb', 'fb', 'fb', 'fb', 'fb', 'C1', 'fb', 'fb', 'fb', 'fb', 'fb', 'fb', 'fb', 'fb', 'fb', 'fb', 'fb', 'fb', 'fb', 'C1', 'fb', 'fb', 'fb', 'C1', 'fb', 'fb', 'fb', 'fb', 'fb', 'fb', 'fb', 'fb', 'fb', 'fb', 'fb', 'fb', 'fb', 'fb', 'fb', 'fb', 'C1', 'fb', 'fb', 'fb', 'fb', 'fb', 'fb', 'fb', 'fb', 'fb', 'fb', 'fb', 'fb', 'fb', 'fb', 'fb', 'fb', 'fb', 'fb', 'fb', 'fb', 'fb', 'fb', 'fb', 'fb', 'C1', 'fb', 'fb', 'fb', 'fb', 'fb', 'fb', 'fb', 'fb', 'fb', 'fb', 'fb', 'fb', 'fb', 'fb', 'C1', 'fb', 'fb', 'fb', 'fb', 'fb', 'fb', 'fb', 'fb', 'C1', 'C2', 'C3', 'pub', 'C1', 'C2', 'C3', 'pub', 'C3', 'pub', 'C2']\n",
      "['C1', 'fb', 'fb', 'fb', 'fb', 'fb', 'fb', 'fb', 'fb', 'fb', 'fb', 'C1', 'fb', 'fb', 'fb', 'fb', 'fb', 'fb', 'fb', 'fb', 'fb', 'fb', 'fb', 'fb', 'fb', 'fb', 'C1', 'fb', 'fb', 'fb', 'fb', 'C1', 'C2', 'C3', 'pass']\n",
      "['C1', 'C2']\n",
      "['C1', 'C2', 'C3', 'pass']\n",
      "['C1', 'C2', 'C3', 'pass']\n",
      "['C1', 'fb', 'fb', 'fb', 'fb', 'fb', 'fb', 'fb', 'fb', 'fb', 'fb', 'fb', 'fb', 'fb', 'fb', 'fb', 'fb', 'fb', 'fb', 'fb', 'fb', 'fb', 'fb', 'fb', 'fb', 'C1', 'C2', 'C3', 'pub', 'C3', 'pub', 'C3', 'pass']\n",
      "['C1', 'C2']\n",
      "['C1', 'fb', 'fb', 'fb', 'fb', 'fb', 'fb', 'fb', 'fb', 'fb', 'fb', 'fb', 'fb', 'fb', 'fb', 'fb', 'fb', 'fb', 'fb', 'fb', 'C1', 'C2', 'C3', 'pub', 'C2', 'C3', 'pass']\n",
      "['C1', 'fb', 'fb', 'fb', 'fb', 'fb', 'fb', 'C1', 'C2']\n",
      "['C1', 'fb', 'fb', 'fb', 'fb', 'fb', 'fb', 'fb', 'fb', 'fb', 'fb', 'fb', 'fb', 'fb', 'fb', 'fb', 'fb', 'fb', 'fb', 'C1', 'fb', 'fb', 'fb', 'fb', 'C1', 'C2', 'C3', 'pub', 'C1', 'fb', 'fb', 'C1', 'fb', 'fb', 'fb', 'fb', 'fb', 'fb', 'C1', 'fb', 'fb', 'fb', 'fb', 'fb', 'fb', 'fb', 'C1', 'C2']\n",
      "['C1', 'fb', 'fb', 'fb', 'fb', 'fb', 'fb', 'fb', 'C1', 'C2', 'C3', 'pub', 'C3', 'pass']\n",
      "['C1', 'C2', 'C3', 'pass']\n",
      "['C1', 'C2', 'C3', 'pub', 'C3', 'pub', 'C3', 'pass']\n",
      "['C1', 'C2', 'C3', 'pass']\n",
      "['C1', 'fb', 'fb', 'fb', 'fb', 'fb', 'fb', 'fb', 'fb', 'fb', 'fb', 'fb', 'fb', 'fb', 'fb', 'fb', 'fb', 'fb', 'fb', 'fb', 'C1', 'C2', 'C3', 'pub', 'C1', 'fb', 'fb', 'fb', 'fb', 'fb', 'fb', 'fb', 'fb', 'fb', 'fb', 'fb', 'fb', 'fb', 'fb', 'fb', 'fb', 'fb', 'fb', 'fb', 'fb', 'fb', 'fb', 'fb', 'fb', 'fb', 'fb', 'fb', 'fb', 'fb', 'fb', 'fb', 'fb', 'C1', 'C2']\n",
      "['C1', 'fb', 'fb', 'fb', 'fb', 'fb', 'fb', 'fb', 'fb', 'fb', 'fb', 'fb', 'C1', 'fb', 'fb', 'C1', 'C2']\n",
      "['C1', 'fb', 'fb', 'fb', 'fb', 'fb', 'fb', 'fb', 'fb', 'fb', 'fb', 'fb', 'fb', 'fb', 'fb', 'fb', 'fb', 'fb', 'C1', 'C2', 'C3', 'pub', 'C3', 'pass']\n",
      "['C1', 'C2', 'C3', 'pass']\n",
      "['C1', 'fb', 'C1', 'fb', 'fb', 'fb', 'fb', 'fb', 'fb', 'fb', 'fb', 'fb', 'fb', 'C1', 'C2', 'C3', 'pass']\n",
      "['C1', 'fb', 'fb', 'fb', 'fb', 'fb', 'fb', 'fb', 'fb', 'fb', 'fb', 'fb', 'fb', 'fb', 'fb', 'C1', 'C2', 'C3', 'pass']\n",
      "['C1', 'fb', 'fb', 'fb', 'fb', 'fb', 'fb', 'C1', 'C2']\n",
      "['C1', 'fb', 'fb', 'fb', 'fb', 'fb', 'fb', 'C1', 'fb', 'fb', 'fb', 'fb', 'fb', 'fb', 'fb', 'fb', 'fb', 'fb', 'fb', 'C1', 'fb', 'fb', 'fb', 'fb', 'fb', 'fb', 'fb', 'fb', 'fb', 'fb', 'fb', 'fb', 'fb', 'C1', 'fb', 'fb', 'fb', 'fb', 'fb', 'fb', 'fb', 'fb', 'fb', 'fb', 'fb', 'fb', 'fb', 'fb', 'C1', 'C2', 'C3', 'pub', 'C2', 'C3', 'pub', 'C2', 'C3', 'pass']\n",
      "['C1', 'fb', 'fb', 'fb', 'fb', 'C1', 'C2', 'C3', 'pass']\n",
      "['C1', 'fb', 'fb', 'fb', 'fb', 'fb', 'C1', 'C2', 'C3', 'pub', 'C3', 'pass']\n",
      "['C1', 'C2', 'C3', 'pub', 'C3', 'pass']\n",
      "['C1', 'fb', 'fb', 'fb', 'fb', 'fb', 'fb', 'fb', 'fb', 'fb', 'C1', 'fb', 'fb', 'fb', 'fb', 'fb', 'fb', 'fb', 'fb', 'fb', 'fb', 'C1', 'C2']\n",
      "['C1', 'fb', 'fb', 'fb', 'C1', 'fb', 'fb', 'fb', 'fb', 'fb', 'fb', 'fb', 'fb', 'fb', 'fb', 'C1', 'C2', 'C3', 'pub', 'C1', 'C2', 'C3', 'pass']\n",
      "['C1', 'fb', 'fb', 'fb', 'fb', 'fb', 'fb', 'fb', 'C1', 'C2', 'C3', 'pub', 'C2', 'C3', 'pub', 'C2', 'C3', 'pub', 'C3', 'pub', 'C2']\n",
      "['C1', 'fb', 'fb', 'fb', 'fb', 'C1', 'C2', 'C3', 'pass']\n",
      "['C1', 'C2', 'C3', 'pub', 'C1', 'fb', 'fb', 'fb', 'C1', 'C2', 'C3', 'pass']\n",
      "['C1', 'fb', 'fb', 'fb', 'fb', 'fb', 'fb', 'fb', 'fb', 'fb', 'fb', 'fb', 'C1', 'fb', 'fb', 'fb', 'fb', 'fb', 'fb', 'fb', 'fb', 'fb', 'fb', 'fb', 'fb', 'fb', 'fb', 'fb', 'fb', 'fb', 'fb', 'fb', 'fb', 'fb', 'fb', 'fb', 'fb', 'fb', 'fb', 'fb', 'fb', 'fb', 'fb', 'fb', 'fb', 'fb', 'fb', 'fb', 'fb', 'fb', 'fb', 'fb', 'fb', 'fb', 'C1', 'fb', 'fb', 'C1', 'fb', 'fb', 'fb', 'fb', 'fb', 'fb', 'fb', 'fb', 'fb', 'fb', 'fb', 'fb', 'C1', 'fb', 'fb', 'fb', 'fb', 'C1', 'C2', 'C3', 'pass']\n",
      "['C1', 'fb', 'fb', 'fb', 'fb', 'fb', 'fb', 'fb', 'fb', 'fb', 'fb', 'fb', 'fb', 'fb', 'fb', 'fb', 'fb', 'fb', 'fb', 'fb', 'fb', 'fb', 'fb', 'fb', 'fb', 'fb', 'fb', 'fb', 'fb', 'fb', 'fb', 'fb', 'fb', 'fb', 'fb', 'fb', 'fb', 'fb', 'fb', 'fb', 'fb', 'fb', 'fb', 'fb', 'fb', 'fb', 'fb', 'fb', 'fb', 'fb', 'fb', 'fb', 'fb', 'fb', 'fb', 'fb', 'fb', 'fb', 'fb', 'fb', 'fb', 'fb', 'fb', 'fb', 'fb', 'fb', 'fb', 'fb', 'fb', 'fb', 'fb', 'fb', 'fb', 'C1', 'fb', 'fb', 'fb', 'fb', 'fb', 'C1', 'fb', 'C1', 'C2', 'C3', 'pass']\n",
      "['C1', 'C2']\n",
      "['C1', 'fb', 'fb', 'fb', 'fb', 'fb', 'fb', 'fb', 'fb', 'fb', 'fb', 'fb', 'fb', 'fb', 'fb', 'fb', 'fb', 'fb', 'fb', 'fb', 'C1', 'C2', 'C3', 'pass']\n",
      "['C1', 'C2']\n",
      "['C1', 'C2', 'C3', 'pub', 'C3', 'pub', 'C1', 'C2', 'C3', 'pass']\n",
      "['C1', 'C2', 'C3', 'pass']\n",
      "['C1', 'fb', 'fb', 'fb', 'fb', 'fb', 'fb', 'fb', 'C1', 'fb', 'fb', 'fb', 'fb', 'fb', 'fb', 'C1', 'fb', 'fb', 'fb', 'C1', 'fb', 'fb', 'fb', 'fb', 'fb', 'fb', 'fb', 'fb', 'fb', 'fb', 'fb', 'fb', 'fb', 'fb', 'fb', 'fb', 'fb', 'fb', 'fb', 'fb', 'fb', 'fb', 'fb', 'fb', 'C1', 'C2', 'C3', 'pub', 'C1', 'C2', 'C3', 'pass']\n",
      "['C1', 'C2', 'C3', 'pub', 'C2', 'C3', 'pass']\n",
      "['C1', 'fb', 'fb', 'fb', 'fb', 'fb', 'fb', 'fb', 'fb', 'fb', 'fb', 'C1', 'fb', 'fb', 'fb', 'fb', 'fb', 'fb', 'fb', 'fb', 'C1', 'fb', 'C1', 'C2', 'C3', 'pass']\n",
      "['C1', 'fb', 'fb', 'fb', 'fb', 'fb', 'fb', 'fb', 'fb', 'fb', 'fb', 'fb', 'fb', 'fb', 'fb', 'fb', 'fb', 'fb', 'fb', 'fb', 'fb', 'C1', 'fb', 'fb', 'fb', 'fb', 'fb', 'C1', 'fb', 'fb', 'fb', 'fb', 'fb', 'fb', 'fb', 'fb', 'C1', 'fb', 'fb', 'fb', 'fb', 'fb', 'fb', 'fb', 'fb', 'fb', 'fb', 'fb', 'C1', 'fb', 'fb', 'fb', 'fb', 'fb', 'fb', 'fb', 'C1', 'fb', 'C1', 'fb', 'C1', 'C2', 'C3', 'pass']\n",
      "['C1', 'C2', 'C3', 'pub', 'C3', 'pub', 'C3', 'pub', 'C2', 'C3', 'pass']\n",
      "['C1', 'C2', 'C3', 'pass']\n",
      "['C1', 'C2']\n",
      "['C1', 'fb', 'fb', 'fb', 'fb', 'fb', 'fb', 'fb', 'fb', 'fb', 'C1', 'C2', 'C3', 'pub', 'C2', 'C3', 'pass']\n",
      "['C1', 'fb', 'fb', 'fb', 'fb', 'fb', 'fb', 'fb', 'fb', 'fb', 'fb', 'fb', 'fb', 'C1', 'C2', 'C3', 'pass']\n",
      "['C1', 'C2']\n",
      "['C1', 'fb', 'fb', 'fb', 'fb', 'fb', 'fb', 'fb', 'fb', 'fb', 'fb', 'fb', 'fb', 'fb', 'fb', 'fb', 'fb', 'fb', 'fb', 'fb', 'fb', 'fb', 'fb', 'fb', 'C1', 'C2', 'C3', 'pass']\n",
      "['C1', 'C2', 'C3', 'pass']\n",
      "['C1', 'fb', 'fb', 'fb', 'fb', 'fb', 'fb', 'fb', 'fb', 'C1', 'fb', 'fb', 'fb', 'fb', 'fb', 'C1', 'fb', 'fb', 'fb', 'C1', 'C2', 'C3', 'pub', 'C1', 'fb', 'fb', 'fb', 'fb', 'fb', 'fb', 'fb', 'fb', 'C1', 'fb', 'fb', 'fb', 'fb', 'fb', 'fb', 'fb', 'fb', 'fb', 'fb', 'fb', 'fb', 'fb', 'fb', 'C1', 'C2', 'C3', 'pass']\n",
      "['C1', 'C2', 'C3', 'pass']\n",
      "['C1', 'C2', 'C3', 'pass']\n",
      "['C1', 'C2', 'C3', 'pub', 'C2', 'C3', 'pass']\n",
      "['C1', 'fb', 'fb', 'fb', 'fb', 'fb', 'fb', 'fb', 'fb', 'fb', 'fb', 'fb', 'C1', 'fb', 'fb', 'fb', 'fb', 'fb', 'fb', 'fb', 'fb', 'fb', 'fb', 'fb', 'fb', 'fb', 'fb', 'fb', 'fb', 'fb', 'fb', 'fb', 'fb', 'C1', 'C2', 'C3', 'pass']\n",
      "['C1', 'fb', 'fb', 'fb', 'fb', 'fb', 'fb', 'C1', 'C2', 'C3', 'pass']\n",
      "['C1', 'C2', 'C3', 'pub', 'C2', 'C3', 'pass']\n",
      "['C1', 'fb', 'fb', 'fb', 'fb', 'fb', 'fb', 'C1', 'fb', 'fb', 'fb', 'fb', 'fb', 'fb', 'fb', 'fb', 'fb', 'fb', 'C1', 'fb', 'fb', 'fb', 'fb', 'fb', 'fb', 'fb', 'fb', 'fb', 'fb', 'fb', 'fb', 'fb', 'fb', 'fb', 'C1', 'C2', 'C3', 'pub', 'C3', 'pass']\n",
      "['C1', 'C2', 'C3', 'pass']\n",
      "['C1', 'C2']\n",
      "['C1', 'fb', 'fb', 'C1', 'fb', 'fb', 'fb', 'C1', 'C2', 'C3', 'pass']\n",
      "['C1', 'fb', 'fb', 'fb', 'fb', 'C1', 'fb', 'fb', 'fb', 'fb', 'fb', 'fb', 'fb', 'fb', 'fb', 'fb', 'fb', 'fb', 'C1', 'C2', 'C3', 'pass']\n",
      "['C1', 'fb', 'fb', 'fb', 'fb', 'fb', 'fb', 'fb', 'fb', 'fb', 'fb', 'fb', 'fb', 'C1', 'C2', 'C3', 'pass']\n",
      "['C1', 'C2']\n",
      "['C1', 'fb', 'fb', 'fb', 'fb', 'fb', 'fb', 'fb', 'fb', 'fb', 'fb', 'fb', 'fb', 'fb', 'C1', 'fb', 'C1', 'C2', 'C3', 'pub', 'C2', 'C3', 'pass']\n",
      "['C1', 'fb', 'fb', 'fb', 'fb', 'C1', 'C2']\n",
      "['C1', 'fb', 'fb', 'fb', 'C1', 'C2', 'C3', 'pass']\n",
      "['C1', 'fb', 'fb', 'fb', 'fb', 'fb', 'fb', 'fb', 'fb', 'fb', 'fb', 'fb', 'fb', 'fb', 'fb', 'fb', 'fb', 'fb', 'fb', 'fb', 'fb', 'fb', 'fb', 'fb', 'fb', 'fb', 'C1', 'fb', 'fb', 'fb', 'C1', 'fb', 'fb', 'fb', 'fb', 'fb', 'fb', 'fb', 'fb', 'C1', 'C2', 'C3', 'pass']\n",
      "['C1', 'fb', 'fb', 'fb', 'fb', 'fb', 'fb', 'fb', 'fb', 'fb', 'fb', 'fb', 'fb', 'fb', 'fb', 'fb', 'fb', 'fb', 'fb', 'fb', 'fb', 'fb', 'fb', 'fb', 'fb', 'fb', 'fb', 'fb', 'fb', 'fb', 'fb', 'fb', 'fb', 'fb', 'C1', 'C2', 'C3', 'pass']\n",
      "['C1', 'fb', 'fb', 'C1', 'fb', 'fb', 'fb', 'fb', 'fb', 'fb', 'fb', 'fb', 'fb', 'fb', 'fb', 'fb', 'fb', 'fb', 'fb', 'C1', 'C2']\n",
      "['C1', 'C2', 'C3', 'pub', 'C3', 'pub', 'C2', 'C3', 'pass']\n",
      "['C1', 'fb', 'fb', 'fb', 'C1', 'fb', 'C1', 'fb', 'fb', 'fb', 'fb', 'fb', 'fb', 'fb', 'fb', 'fb', 'fb', 'fb', 'fb', 'fb', 'fb', 'fb', 'fb', 'C1', 'fb', 'fb', 'fb', 'fb', 'fb', 'fb', 'fb', 'fb', 'fb', 'fb', 'C1', 'C2', 'C3', 'pass']\n",
      "['C1', 'C2']\n",
      "['C1', 'fb', 'fb', 'fb', 'fb', 'fb', 'fb', 'fb', 'fb', 'fb', 'fb', 'C1', 'C2', 'C3', 'pub', 'C2', 'C3', 'pass']\n",
      "['C1', 'C2', 'C3', 'pub', 'C3', 'pass']\n",
      "['C1', 'fb', 'fb', 'fb', 'C1', 'C2', 'C3', 'pass']\n",
      "['C1', 'C2', 'C3', 'pub', 'C2', 'C3', 'pub', 'C3', 'pub', 'C2', 'C3', 'pass']\n",
      "['C1', 'fb', 'fb', 'fb', 'C1', 'fb', 'fb', 'fb', 'fb', 'fb', 'fb', 'fb', 'fb', 'fb', 'fb', 'fb', 'fb', 'fb', 'C1', 'C2']\n",
      "['C1', 'C2', 'C3', 'pub', 'C2', 'C3', 'pass']\n"
     ]
    }
   ],
   "source": [
    "runs = []\n",
    "for i in range(100):\n",
    "    run = run_student()\n",
    "    print(run)\n",
    "    runs.append(run)"
   ]
  },
  {
   "cell_type": "code",
   "execution_count": 16,
   "metadata": {},
   "outputs": [
    {
     "name": "stdout",
     "output_type": "stream",
     "text": [
      "{'C1': 2.3, 'C2': 1.33, 'C3': 1.27, 'pass': 0.75, 'fb': 12.15, 'pub': 0.52}\n"
     ]
    }
   ],
   "source": [
    "from itertools import groupby\n",
    "\n",
    "state_frequency = dict()\n",
    "\n",
    "for run in runs:\n",
    "    for state, group in groupby(run):\n",
    "        if state in state_frequency:\n",
    "            state_frequency[state] += len(list(group))\n",
    "        else:\n",
    "            state_frequency[state] = len(list(group))\n",
    "\n",
    "for state, freq in state_frequency.items():\n",
    "    state_frequency[state] = freq / len(runs)\n",
    "\n",
    "print(state_frequency)"
   ]
  },
  {
   "cell_type": "code",
   "execution_count": null,
   "metadata": {},
   "outputs": [],
   "source": [
    "states_count = 0\n",
    "\n",
    "for run in runs:\n",
    "    states_count += len(run)\n",
    "    \n",
    "states_avg = states_count / len(runs)\n",
    "\n",
    "print(states_avg)"
   ]
  }
 ],
 "metadata": {
  "kernelspec": {
   "display_name": "Python 3",
   "language": "python",
   "name": "python3"
  },
  "language_info": {
   "codemirror_mode": {
    "name": "ipython",
    "version": 3
   },
   "file_extension": ".py",
   "mimetype": "text/x-python",
   "name": "python",
   "nbconvert_exporter": "python",
   "pygments_lexer": "ipython3",
   "version": "3.6.6"
  }
 },
 "nbformat": 4,
 "nbformat_minor": 2
}
